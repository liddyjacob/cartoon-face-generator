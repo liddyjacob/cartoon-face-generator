{
 "cells": [
  {
   "cell_type": "code",
   "execution_count": 1,
   "metadata": {},
   "outputs": [],
   "source": [
    "from PIL import Image"
   ]
  },
  {
   "cell_type": "code",
   "execution_count": 6,
   "metadata": {},
   "outputs": [],
   "source": [
    "import tensorflow as tf\n"
   ]
  },
  {
   "cell_type": "code",
   "execution_count": 26,
   "metadata": {},
   "outputs": [],
   "source": [
    "img = Image.open('static-images/1.png')"
   ]
  },
  {
   "cell_type": "code",
   "execution_count": 20,
   "metadata": {},
   "outputs": [],
   "source": [
    "img = Image.open('training_data/cs10000053986926948907.png')"
   ]
  },
  {
   "cell_type": "code",
   "execution_count": 99,
   "metadata": {},
   "outputs": [],
   "source": [
    "input_layer = tf.keras.layers.Input(shape=(100,100, 4))\n",
    "rescale = tf.keras.layers.Rescaling(1./255, input_shape=(100, 100, 4))(input_layer)\n",
    "flat_layer = tf.keras.layers.Flatten()(rescale)\n",
    "hidden_layer = tf.keras.layers.Dense(100, activation='sigmoid')(flat_layer)\n",
    "out_later = tf.keras.layers.Dense(1, activation='sigmoid')(hidden_layer)\n",
    "\n",
    "model = tf.keras.Model(input_layer, out_later)\n",
    "#model.build((input_size,1,1))\n",
    "model.compile(\n",
    "    #loss='sparse_categorical_crossentropy' ,\n",
    "    loss=tf.keras.losses.BinaryCrossentropy(),\n",
    "    optimizer=tf.keras.optimizers.Adam(),\n",
    "    metrics=[\"accuracy\"],\n",
    ")\n"
   ]
  },
  {
   "cell_type": "code",
   "execution_count": 83,
   "metadata": {},
   "outputs": [
    {
     "name": "stdout",
     "output_type": "stream",
     "text": [
      "Model: \"model_9\"\n",
      "_________________________________________________________________\n",
      " Layer (type)                Output Shape              Param #   \n",
      "=================================================================\n",
      " input_13 (InputLayer)       [(None, 100, 100, 4)]     0         \n",
      "                                                                 \n",
      " rescaling_1 (Rescaling)     (None, 100, 100, 4)       0         \n",
      "                                                                 \n",
      " flatten_3 (Flatten)         (None, 40000)             0         \n",
      "                                                                 \n",
      " dense_21 (Dense)            (None, 100)               4000100   \n",
      "                                                                 \n",
      " dense_22 (Dense)            (None, 1)                 101       \n",
      "                                                                 \n",
      "=================================================================\n",
      "Total params: 4,000,201\n",
      "Trainable params: 4,000,201\n",
      "Non-trainable params: 0\n",
      "_________________________________________________________________\n"
     ]
    }
   ],
   "source": [
    "model.summary()"
   ]
  },
  {
   "cell_type": "code",
   "execution_count": 64,
   "metadata": {},
   "outputs": [],
   "source": [
    "import numpy as np"
   ]
  },
  {
   "cell_type": "code",
   "execution_count": 69,
   "metadata": {},
   "outputs": [],
   "source": [
    "img_as_array = np.array(img)"
   ]
  },
  {
   "cell_type": "code",
   "execution_count": 41,
   "metadata": {},
   "outputs": [
    {
     "data": {
      "text/plain": [
       "array([[[ 34,  63, 106, 255],\n",
       "        [ 81,  52,  40, 255],\n",
       "        [ 60,   5,  37, 255],\n",
       "        ...,\n",
       "        [ 11,  30,  76, 255],\n",
       "        [ 86,  67,  47, 255],\n",
       "        [ 85,  28,  50, 255]],\n",
       "\n",
       "       [[ 33,  61,  84, 255],\n",
       "        [ 66,  27,  40, 255],\n",
       "        [ 29,  38,  29, 255],\n",
       "        ...,\n",
       "        [ 59,  56,  38, 255],\n",
       "        [ 76,  46,  45, 255],\n",
       "        [ 53,  47,  57, 255]],\n",
       "\n",
       "       [[ 30,  81,  61, 255],\n",
       "        [ 65,   0,  45, 255],\n",
       "        [ 32,  77,  72, 255],\n",
       "        ...,\n",
       "        [ 66,  43,  59, 255],\n",
       "        [ 41,  49,  52, 255],\n",
       "        [ 68,  71,  42, 255]],\n",
       "\n",
       "       ...,\n",
       "\n",
       "       [[ 35,  73,  56, 255],\n",
       "        [ 35,  25,  33, 255],\n",
       "        [ 68,  47,  52, 255],\n",
       "        ...,\n",
       "        [ 61,  59,  47, 255],\n",
       "        [ 88,  54,  15, 255],\n",
       "        [ 43,  37,  75, 255]],\n",
       "\n",
       "       [[ 51,  60,  37, 255],\n",
       "        [ 52,  50,  62, 255],\n",
       "        [ 49,  50,  88, 255],\n",
       "        ...,\n",
       "        [ 74,  74,  63, 255],\n",
       "        [ 53,  21,  64, 255],\n",
       "        [ 63,  51,  68, 255]],\n",
       "\n",
       "       [[ 74,  61,  62, 255],\n",
       "        [ 67,  66,  48, 255],\n",
       "        [ 81,  54,  42, 255],\n",
       "        ...,\n",
       "        [ 41,  84,  68, 255],\n",
       "        [102,  54,  69, 255],\n",
       "        [ 46,  48,  52, 255]]], dtype=uint8)"
      ]
     },
     "execution_count": 41,
     "metadata": {},
     "output_type": "execute_result"
    }
   ],
   "source": [
    "img_as_array"
   ]
  },
  {
   "cell_type": "code",
   "execution_count": 42,
   "metadata": {},
   "outputs": [
    {
     "data": {
      "text/plain": [
       "array([[[[ True,  True,  True,  True],\n",
       "         [ True,  True,  True,  True],\n",
       "         [ True,  True,  True,  True],\n",
       "         ...,\n",
       "         [ True,  True,  True,  True],\n",
       "         [ True,  True,  True,  True],\n",
       "         [ True,  True,  True,  True]],\n",
       "\n",
       "        [[ True,  True,  True,  True],\n",
       "         [ True,  True,  True,  True],\n",
       "         [ True,  True,  True,  True],\n",
       "         ...,\n",
       "         [ True,  True,  True,  True],\n",
       "         [ True,  True,  True,  True],\n",
       "         [ True,  True,  True,  True]],\n",
       "\n",
       "        [[ True,  True,  True,  True],\n",
       "         [ True,  True,  True,  True],\n",
       "         [ True,  True,  True,  True],\n",
       "         ...,\n",
       "         [ True,  True,  True,  True],\n",
       "         [ True,  True,  True,  True],\n",
       "         [ True,  True,  True,  True]],\n",
       "\n",
       "        ...,\n",
       "\n",
       "        [[ True,  True,  True,  True],\n",
       "         [ True,  True,  True,  True],\n",
       "         [ True,  True,  True,  True],\n",
       "         ...,\n",
       "         [ True,  True,  True,  True],\n",
       "         [ True,  True,  True,  True],\n",
       "         [ True,  True,  True,  True]],\n",
       "\n",
       "        [[ True,  True,  True,  True],\n",
       "         [ True,  True,  True,  True],\n",
       "         [ True,  True,  True,  True],\n",
       "         ...,\n",
       "         [ True,  True,  True,  True],\n",
       "         [ True,  True,  True,  True],\n",
       "         [ True,  True,  True,  True]],\n",
       "\n",
       "        [[ True,  True,  True,  True],\n",
       "         [ True,  True,  True,  True],\n",
       "         [ True,  True,  True,  True],\n",
       "         ...,\n",
       "         [ True,  True,  True,  True],\n",
       "         [ True,  True,  True,  True],\n",
       "         [ True,  True,  True,  True]]]])"
      ]
     },
     "execution_count": 42,
     "metadata": {},
     "output_type": "execute_result"
    }
   ],
   "source": [
    "img_as_array == img_as_array.reshape(-1, 100, 100, 4)"
   ]
  },
  {
   "cell_type": "code",
   "execution_count": 36,
   "metadata": {},
   "outputs": [],
   "source": [
    "train_x = np.asarray(img_as_array)"
   ]
  },
  {
   "cell_type": "code",
   "execution_count": 53,
   "metadata": {},
   "outputs": [
    {
     "data": {
      "text/plain": [
       "(1, 100, 100, 4)"
      ]
     },
     "execution_count": 53,
     "metadata": {},
     "output_type": "execute_result"
    }
   ],
   "source": [
    "np.array([img_as_array]).shape"
   ]
  },
  {
   "cell_type": "code",
   "execution_count": 74,
   "metadata": {},
   "outputs": [],
   "source": [
    "import pathlib"
   ]
  },
  {
   "cell_type": "code",
   "execution_count": 79,
   "metadata": {},
   "outputs": [],
   "source": [
    "bad_imgs = []\n",
    "for img_path in  pathlib.Path('static-images').glob('*.png'):\n",
    "    bad_imgs.append(np.array(Image.open(img_path)))"
   ]
  },
  {
   "cell_type": "code",
   "execution_count": 80,
   "metadata": {},
   "outputs": [],
   "source": [
    "good_imgs = []\n",
    "for img_path in  pathlib.Path('training_data').glob('*.png'):\n",
    "    good_imgs.append(np.array(Image.open(img_path)))"
   ]
  },
  {
   "cell_type": "code",
   "execution_count": 84,
   "metadata": {},
   "outputs": [],
   "source": [
    "all_images = bad_imgs + good_imgs\n",
    "all_labels = [0] * len(bad_imgs) + [1] * len(good_imgs)"
   ]
  },
  {
   "cell_type": "code",
   "execution_count": 92,
   "metadata": {},
   "outputs": [],
   "source": [
    "from sklearn import model_selection"
   ]
  },
  {
   "cell_type": "code",
   "execution_count": 93,
   "metadata": {},
   "outputs": [],
   "source": [
    "x_train, x_test, y_train, y_test = model_selection.train_test_split(all_images, all_labels, test_size=.2)"
   ]
  },
  {
   "cell_type": "code",
   "execution_count": 97,
   "metadata": {},
   "outputs": [
    {
     "name": "stdout",
     "output_type": "stream",
     "text": [
      "125/125 [==============================] - 1s 9ms/step\n"
     ]
    },
    {
     "data": {
      "text/plain": [
       "array([[1.7569766e-04],\n",
       "       [9.9978030e-01],\n",
       "       [1.7569681e-04],\n",
       "       ...,\n",
       "       [9.9978030e-01],\n",
       "       [1.7569799e-04],\n",
       "       [1.7569850e-04]], dtype=float32)"
      ]
     },
     "execution_count": 97,
     "metadata": {},
     "output_type": "execute_result"
    }
   ],
   "source": [
    "model.predict(np.array(x_test),)"
   ]
  },
  {
   "cell_type": "code",
   "execution_count": 100,
   "metadata": {},
   "outputs": [
    {
     "name": "stdout",
     "output_type": "stream",
     "text": [
      "166/500 [========>.....................] - ETA: 11s - loss: 0.0076 - accuracy: 0.9972"
     ]
    }
   ],
   "source": [
    "model.fit(np.array(x_train), np.array(y_train),  validation_data=(np.array(x_test), np.array(y_test)))"
   ]
  },
  {
   "cell_type": "code",
   "execution_count": null,
   "metadata": {},
   "outputs": [],
   "source": [
    "model.predict(x_test)"
   ]
  },
  {
   "cell_type": "markdown",
   "metadata": {},
   "source": []
  }
 ],
 "metadata": {
  "kernelspec": {
   "display_name": "Python 3",
   "language": "python",
   "name": "python3"
  },
  "language_info": {
   "codemirror_mode": {
    "name": "ipython",
    "version": 3
   },
   "file_extension": ".py",
   "mimetype": "text/x-python",
   "name": "python",
   "nbconvert_exporter": "python",
   "pygments_lexer": "ipython3",
   "version": "3.10.12"
  }
 },
 "nbformat": 4,
 "nbformat_minor": 2
}
